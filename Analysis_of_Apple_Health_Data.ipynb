{
  "nbformat": 4,
  "nbformat_minor": 0,
  "metadata": {
    "colab": {
      "provenance": [],
      "authorship_tag": "ABX9TyO74Z6Q/VXNvjYmIg/px097",
      "include_colab_link": true
    },
    "kernelspec": {
      "name": "python3",
      "display_name": "Python 3"
    },
    "language_info": {
      "name": "python"
    }
  },
  "cells": [
    {
      "cell_type": "markdown",
      "metadata": {
        "id": "view-in-github",
        "colab_type": "text"
      },
      "source": [
        "<a href=\"https://colab.research.google.com/github/ufbfung/apple-health-integration/blob/main/Analysis_of_Apple_Health_Data.ipynb\" target=\"_parent\"><img src=\"https://colab.research.google.com/assets/colab-badge.svg\" alt=\"Open In Colab\"/></a>"
      ]
    },
    {
      "cell_type": "code",
      "source": [
        "# mount google drive\n",
        "from google.colab import drive\n",
        "drive.mount('/content/drive')"
      ],
      "metadata": {
        "colab": {
          "base_uri": "https://localhost:8080/"
        },
        "id": "VLl517fUjCFP",
        "outputId": "e581d0eb-f0c9-4187-a429-026d91e54cc5"
      },
      "execution_count": 2,
      "outputs": [
        {
          "output_type": "stream",
          "name": "stdout",
          "text": [
            "Mounted at /content/drive\n"
          ]
        }
      ]
    },
    {
      "cell_type": "code",
      "source": [
        "# Define file path to apple health records\n",
        "apple_health_data_path = '/content/drive/MyDrive/coding/myhealth/data/HealthData2.json'"
      ],
      "metadata": {
        "id": "uvAi__C7jgDf"
      },
      "execution_count": 8,
      "outputs": []
    },
    {
      "cell_type": "code",
      "execution_count": 14,
      "metadata": {
        "colab": {
          "base_uri": "https://localhost:8080/"
        },
        "id": "JQAmX34mie6J",
        "outputId": "574bf6fb-9ac6-4ca6-f0fc-361f19059804"
      },
      "outputs": [
        {
          "output_type": "stream",
          "name": "stdout",
          "text": [
            "Data Types Count:\n",
            "  HKQuantityTypeIdentifierStepCount: 544\n",
            "  HKQuantityTypeIdentifierActiveEnergyBurned: 5032\n",
            "  HKQuantityTypeIdentifierHeartRate: 4551\n",
            "\n",
            "Devices Count:\n",
            "  Apple Watch: 9859\n",
            "  iPhone: 200\n",
            "  Apple Watch via Apple Health: 64\n",
            "  Body Smart: 4\n",
            "\n",
            "Devices Details:\n",
            "  Name: Apple Watch via Apple Health, Manufacturer: Withings, Model: Withings Tracker, Hardware Version: Unknown, Firmware Version: Unknown, Software Version: Unknown\n",
            "  Name: iPhone, Manufacturer: Apple Inc., Model: iPhone, Hardware Version: iPhone16,1, Firmware Version: Unknown, Software Version: 17.4.1\n",
            "  Name: Body Smart, Manufacturer: Withings, Model: Withings Scale, Hardware Version: 0, Firmware Version: 1071, Software Version: Unknown\n",
            "  Name: iPhone, Manufacturer: Apple Inc., Model: iPhone, Hardware Version: iPhone16,1, Firmware Version: Unknown, Software Version: 17.5.1\n",
            "  Name: Apple Watch, Manufacturer: Apple Inc., Model: Watch, Hardware Version: Watch6,1, Firmware Version: Unknown, Software Version: 10.5\n",
            "\n",
            "Observations Count by Type:\n",
            "  HKQuantityTypeIdentifierStepCount: 544\n",
            "  HKQuantityTypeIdentifierActiveEnergyBurned: 5032\n",
            "  HKQuantityTypeIdentifierHeartRate: 4551\n",
            "\n",
            "Statistics for HKQuantityTypeIdentifierStepCount:\n",
            "  Min: 1.0\n",
            "  Max: 1007.0\n",
            "  Average: 207.8\n",
            "  Median: 72.0\n",
            "  Period: May 26, 2024 - Jun 02, 2024\n",
            "\n",
            "Statistics for HKQuantityTypeIdentifierActiveEnergyBurned:\n",
            "  Min: 0.0\n",
            "  Max: 86.35\n",
            "  Average: 0.86\n",
            "  Median: 0.15\n",
            "  Period: May 26, 2024 - Jun 02, 2024\n",
            "\n",
            "Statistics for HKQuantityTypeIdentifierHeartRate:\n",
            "  Min: 45.0\n",
            "  Max: 138.0\n",
            "  Average: 90.77\n",
            "  Median: 97.0\n",
            "  Period: May 26, 2024 - Jun 02, 2024\n"
          ]
        }
      ],
      "source": [
        "from pydantic import BaseModel, Field\n",
        "from typing import List, Dict, Any\n",
        "import json\n",
        "from collections import Counter, defaultdict\n",
        "import statistics\n",
        "from datetime import datetime\n",
        "from dateutil import parser\n",
        "\n",
        "class DeviceInfo(BaseModel):\n",
        "    name: str = Field(default=\"Unknown\")\n",
        "    manufacturer: str = Field(default=\"Unknown\")\n",
        "    model: str = Field(default=\"Unknown\")\n",
        "    hardwareVersion: str = Field(default=\"Unknown\")\n",
        "    firmwareVersion: str = Field(default=\"Unknown\")\n",
        "    softwareVersion: str = Field(default=\"Unknown\")\n",
        "    localIdentifier: str = Field(default=\"Unknown\")\n",
        "    udiDeviceIdentifier: str = Field(default=\"Unknown\")\n",
        "\n",
        "class HealthDataSample(BaseModel):\n",
        "    uuid: str\n",
        "    type: str\n",
        "    startDate: str\n",
        "    endDate: str\n",
        "    value: float\n",
        "    unit: str\n",
        "    source: str\n",
        "    device: DeviceInfo\n",
        "    metadata: Dict[str, Any]\n",
        "\n",
        "class HealthData(BaseModel):\n",
        "    samples: List[HealthDataSample]\n",
        "\n",
        "def load_health_data(json_file: str) -> HealthData:\n",
        "    with open(json_file, 'r') as file:\n",
        "        data = json.load(file)\n",
        "        samples = [HealthDataSample(**sample) for sample in data]\n",
        "        return HealthData(samples=samples)\n",
        "\n",
        "def profile_health_data(health_data: HealthData):\n",
        "    data_types_counter = Counter()\n",
        "    devices_counter = Counter()\n",
        "    observations_counter = defaultdict(int)\n",
        "    devices_info = set()\n",
        "\n",
        "    for sample in health_data.samples:\n",
        "        data_types_counter[sample.type] += 1\n",
        "        device_identifier = (\n",
        "            sample.device.name,\n",
        "            sample.device.manufacturer,\n",
        "            sample.device.model,\n",
        "            sample.device.hardwareVersion,\n",
        "            sample.device.firmwareVersion,\n",
        "            sample.device.softwareVersion\n",
        "        )\n",
        "        devices_info.add(device_identifier)\n",
        "        devices_counter[sample.device.name] += 1\n",
        "        observations_counter[sample.type] += 1\n",
        "\n",
        "    print(\"Data Types Count:\")\n",
        "    for data_type, count in data_types_counter.items():\n",
        "        print(f\"  {data_type}: {count}\")\n",
        "\n",
        "    print(\"\\nDevices Count:\")\n",
        "    for device, count in devices_counter.items():\n",
        "        print(f\"  {device}: {count}\")\n",
        "\n",
        "    print(\"\\nDevices Details:\")\n",
        "    for device in devices_info:\n",
        "        print(f\"  Name: {device[0]}, Manufacturer: {device[1]}, Model: {device[2]}, \"\n",
        "              f\"Hardware Version: {device[3]}, Firmware Version: {device[4]}, Software Version: {device[5]}\")\n",
        "\n",
        "    print(\"\\nObservations Count by Type:\")\n",
        "    for obs_type, count in observations_counter.items():\n",
        "        print(f\"  {obs_type}: {count}\")\n",
        "\n",
        "def compute_statistics(data: List[float]) -> Dict[str, float]:\n",
        "    return {\n",
        "        \"min\": round(min(data), 2),\n",
        "        \"max\": round(max(data), 2),\n",
        "        \"average\": round(sum(data) / len(data), 2),\n",
        "        \"median\": round(statistics.median(data), 2)\n",
        "    }\n",
        "\n",
        "def compute_period(dates: List[str]) -> Dict[str, str]:\n",
        "    parsed_dates = [parser.parse(date) for date in dates]\n",
        "    earliest = min(parsed_dates)\n",
        "    latest = max(parsed_dates)\n",
        "    return {\n",
        "        \"earliest\": earliest.strftime(\"%b %d, %Y\"),\n",
        "        \"latest\": latest.strftime(\"%b %d, %Y\")\n",
        "    }\n",
        "\n",
        "def statistical_insights(health_data: HealthData):\n",
        "    data_by_type = defaultdict(list)\n",
        "    dates_by_type = defaultdict(list)\n",
        "\n",
        "    for sample in health_data.samples:\n",
        "        data_by_type[sample.type].append(sample.value)\n",
        "        dates_by_type[sample.type].append(sample.startDate)\n",
        "\n",
        "    for data_type, values in data_by_type.items():\n",
        "        stats = compute_statistics(values)\n",
        "        period = compute_period(dates_by_type[data_type])\n",
        "        print(f\"\\nStatistics for {data_type}:\")\n",
        "        print(f\"  Min: {stats['min']}\")\n",
        "        print(f\"  Max: {stats['max']}\")\n",
        "        print(f\"  Average: {stats['average']}\")\n",
        "        print(f\"  Median: {stats['median']}\")\n",
        "        print(f\"  Period: {period['earliest']} - {period['latest']}\")\n",
        "\n",
        "def main():\n",
        "    # Assuming apple_health_data_path is defined elsewhere\n",
        "    json_file = apple_health_data_path  # Use the predefined path\n",
        "    health_data = load_health_data(json_file)\n",
        "\n",
        "    profile_health_data(health_data)\n",
        "    statistical_insights(health_data)\n",
        "\n",
        "if __name__ == \"__main__\":\n",
        "    main()\n"
      ]
    },
    {
      "cell_type": "code",
      "source": [],
      "metadata": {
        "id": "bsAePJatj0-R"
      },
      "execution_count": null,
      "outputs": []
    }
  ]
}